{
 "cells": [
  {
   "cell_type": "code",
   "execution_count": null,
   "metadata": {},
   "outputs": [],
   "source": [
    "#Just a Python noteboook so that I dont need to reload the site while I'm testing\n",
    "\n",
    "from bs4 import BeautifulSoup\n",
    "from selenium.webdriver import Chrome\n",
    "from selenium.webdriver import ChromeOptions\n",
    "import time\n",
    "\n",
    "options = ChromeOptions()\n",
    "options.headless = True\n",
    "driver = Chrome(options=options)"
   ]
  },
  {
   "cell_type": "code",
   "execution_count": null,
   "metadata": {},
   "outputs": [],
   "source": [
    "# Home Page Site\n",
    "url = \"https://scaledagile.com/calendar/?course_id=SAFe+Scrum+Master\"\n",
    "\n",
    "driver.get(url)\n",
    "time.sleep(30)\n",
    "soup = BeautifulSoup(driver.page_source, \"html.parser\")"
   ]
  },
  {
   "cell_type": "code",
   "execution_count": null,
   "metadata": {},
   "outputs": [],
   "source": [
    "# Company Website\n",
    "url = \"https://scaledagile.com/business-solutions/find-a-partner/#id=0010W00002cIOTSQA4\"\n",
    "\n",
    "driver.get(url)\n",
    "time.sleep(10)\n",
    "soup = BeautifulSoup(driver.page_source, \"html.parser\")"
   ]
  },
  {
   "cell_type": "code",
   "execution_count": null,
   "metadata": {},
   "outputs": [],
   "source": [
    "company = soup.find(\"h1\", class_=\"summary-title\").text\n",
    "email = soup.find(\"lightning-formatted-email\").text\n",
    "phone = soup.find(\"lightning-formatted-phone\").text\n",
    "\n",
    "print(company, email, phone)"
   ]
  },
  {
   "cell_type": "code",
   "execution_count": null,
   "metadata": {},
   "outputs": [],
   "source": [
    "driver.quit()"
   ]
  },
  {
   "cell_type": "code",
   "execution_count": null,
   "metadata": {},
   "outputs": [],
   "source": [
    "images = soup.find_all(\"img\")\n",
    "companies = []\n",
    "for image in images[1:]:\n",
    "    companies.append(image.attrs[\"alt\"][:-5])\n",
    "print(companies)\n"
   ]
  },
  {
   "cell_type": "code",
   "execution_count": null,
   "metadata": {},
   "outputs": [],
   "source": [
    "images = soup.find_all(\"img\")\n",
    "print(images[1])\n",
    "unknown = images[1].click()"
   ]
  },
  {
   "cell_type": "code",
   "execution_count": null,
   "metadata": {},
   "outputs": [],
   "source": [
    "print(soup.prettify())"
   ]
  }
 ],
 "metadata": {
  "interpreter": {
   "hash": "b99d9cd655a354098188085f889f1e341cd0c0beb723a8b04cab4f4cab4c6fb4"
  },
  "kernelspec": {
   "display_name": "Python 3.10.1 64-bit",
   "language": "python",
   "name": "python3"
  },
  "language_info": {
   "codemirror_mode": {
    "name": "ipython",
    "version": 3
   },
   "file_extension": ".py",
   "mimetype": "text/x-python",
   "name": "python",
   "nbconvert_exporter": "python",
   "pygments_lexer": "ipython3",
   "version": "3.10.1"
  },
  "orig_nbformat": 4
 },
 "nbformat": 4,
 "nbformat_minor": 2
}
