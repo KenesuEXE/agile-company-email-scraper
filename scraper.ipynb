{
 "cells": [
  {
   "cell_type": "code",
   "execution_count": 27,
   "metadata": {},
   "outputs": [],
   "source": [
    "#Just a Python noteboook so that I dont need to reload the site while I'm testing\n",
    "\n",
    "from bs4 import BeautifulSoup\n",
    "from selenium.webdriver import Chrome\n",
    "from selenium.webdriver import ChromeOptions\n",
    "import time\n",
    "\n",
    "\n",
    "options = ChromeOptions()\n",
    "options.headless = True\n",
    "driver = Chrome(options=options)\n",
    "driver.get(\"https://scaledagile.com/business-solutions/find-a-partner/#id=0010W00002cIOTSQA4\")\n",
    "time.sleep(10)\n",
    "soup = BeautifulSoup(driver.page_source, \"html.parser\")\n",
    "driver.quit()"
   ]
  },
  {
   "cell_type": "code",
   "execution_count": 36,
   "metadata": {},
   "outputs": [
    {
     "name": "stdout",
     "output_type": "stream",
     "text": [
      "Lean Agile Global Email info@leanagileglobal.com 203 606 3412\n"
     ]
    }
   ],
   "source": [
    "company = soup.find(\"h1\", class_=\"summary-title\").text\n",
    "email = soup.find(\"lightning-formatted-email\").text\n",
    "phone = soup.find(\"lightning-formatted-phone\").text\n",
    "\n",
    "print(company, email, phone)"
   ]
  }
 ],
 "metadata": {
  "interpreter": {
   "hash": "b99d9cd655a354098188085f889f1e341cd0c0beb723a8b04cab4f4cab4c6fb4"
  },
  "kernelspec": {
   "display_name": "Python 3.10.1 64-bit",
   "language": "python",
   "name": "python3"
  },
  "language_info": {
   "codemirror_mode": {
    "name": "ipython",
    "version": 3
   },
   "file_extension": ".py",
   "mimetype": "text/x-python",
   "name": "python",
   "nbconvert_exporter": "python",
   "pygments_lexer": "ipython3",
   "version": "3.10.1"
  },
  "orig_nbformat": 4
 },
 "nbformat": 4,
 "nbformat_minor": 2
}
