{
 "cells": [
  {
   "cell_type": "code",
   "execution_count": null,
   "metadata": {},
   "outputs": [],
   "source": [
    "# Start chrome driver\n",
    "# Note that chromedriver.exe must be the same version as your Chrome browser\n",
    "\n",
    "from selenium.webdriver import Chrome\n",
    "from selenium.webdriver.common.by import By\n",
    "from selenium.webdriver.support.ui import WebDriverWait\n",
    "from selenium.webdriver.support import expected_conditions as EC\n",
    "from bs4 import BeautifulSoup\n",
    "import time\n",
    "\n",
    "url = \"https://scaledagile.com/business-solutions/find-a-partner/\"\n",
    "driver = Chrome()\n",
    "driver.get(url)\n",
    "data = []\n",
    "count = 0"
   ]
  },
  {
   "cell_type": "code",
   "execution_count": null,
   "metadata": {},
   "outputs": [],
   "source": [
    "# Loop through every company in every page\n",
    "\n",
    "while True:\n",
    "    # Counts how many companies in a page\n",
    "    companies = WebDriverWait(driver, 30).until(\n",
    "        EC.presence_of_all_elements_located((By.XPATH, \"//a[@class='partner-card']\")))\n",
    "\n",
    "    # Loops for every company in a page\n",
    "    for i in range(len(companies)):\n",
    "        companies = WebDriverWait(driver, 30).until(\n",
    "        EC.presence_of_all_elements_located((By.XPATH, \"//a[@class='partner-card']\")))\n",
    "\n",
    "        company = companies[i]\n",
    "        company.click()\n",
    "\n",
    "        #Scrape company info\n",
    "        time.sleep(5)\n",
    "        soup = BeautifulSoup(driver.page_source, \"html.parser\")\n",
    "\n",
    "        try: # Skip if site didnt load\n",
    "            name = soup.find(\"h1\", class_=\"summary-title\").text\n",
    "        except AttributeError:\n",
    "            driver.back()\n",
    "            continue\n",
    "\n",
    "        try: # Leave blank if no email\n",
    "            email = soup.find(\"lightning-formatted-email\").text[6:]\n",
    "        except AttributeError:\n",
    "            email = \"\"\n",
    "        \n",
    "        try:  # Leave blank if no phone number\n",
    "            phone = soup.find(\"lightning-formatted-phone\").text\n",
    "        except AttributeError:\n",
    "            phone = \"\"\n",
    "        \n",
    "        # Remove non-ASCII characters in info (it gives errors when put in a csv file)\n",
    "        name = ''.join(i for i in name if ord(i)<128)\n",
    "        email = ''.join(i for i in email if ord(i)<128)\n",
    "        phone = ''.join(i for i in phone if ord(i)<128)\n",
    "\n",
    "        # Store dict in list\n",
    "        data.append({\"name\": name, \"email\": email, \"phone\": phone})\n",
    "        count += 1\n",
    "        print(count, name, email, phone)\n",
    "\n",
    "        driver.back()\n",
    "    \n",
    "    try: # Clicks on next page\n",
    "        next_page = driver.find_element_by_xpath(\"//button[@name='next-page']\")\n",
    "        next_page.click()\n",
    "    except:  # If no more pages left \n",
    "        print(\"Scraping done.\")\n",
    "        driver.quit()\n",
    "        break"
   ]
  },
  {
   "cell_type": "code",
   "execution_count": null,
   "metadata": {},
   "outputs": [],
   "source": [
    "# Write data on csv file\n",
    "import csv\n",
    "\n",
    "keys = data[0].keys()\n",
    "\n",
    "with open('safescrummaster_only.csv', 'w', newline='') as output_file:\n",
    "    dict_writer = csv.DictWriter(output_file, keys)\n",
    "    dict_writer.writeheader()\n",
    "    dict_writer.writerows(data)"
   ]
  }
 ],
 "metadata": {
  "interpreter": {
   "hash": "b99d9cd655a354098188085f889f1e341cd0c0beb723a8b04cab4f4cab4c6fb4"
  },
  "kernelspec": {
   "display_name": "Python 3.10.1 64-bit",
   "language": "python",
   "name": "python3"
  },
  "language_info": {
   "codemirror_mode": {
    "name": "ipython",
    "version": 3
   },
   "file_extension": ".py",
   "mimetype": "text/x-python",
   "name": "python",
   "nbconvert_exporter": "python",
   "pygments_lexer": "ipython3",
   "version": "3.10.1"
  },
  "orig_nbformat": 4
 },
 "nbformat": 4,
 "nbformat_minor": 2
}
