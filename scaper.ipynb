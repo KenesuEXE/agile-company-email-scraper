{
 "cells": [
  {
   "cell_type": "code",
   "execution_count": null,
   "metadata": {},
   "outputs": [],
   "source": [
    "# Given one page, scrapes company name, email, and phone number, and writes it on a csv file\n",
    "# TO DO: Do it for multiple pages\n",
    "\n",
    "from selenium.webdriver import Chrome\n",
    "from selenium.webdriver.common.by import By\n",
    "from selenium.webdriver.support.ui import WebDriverWait\n",
    "from selenium.webdriver.support import expected_conditions as EC\n",
    "from bs4 import BeautifulSoup\n",
    "import time\n",
    "\n",
    "url = \"https://scaledagile.com/business-solutions/find-a-partner/\"\n",
    "driver = Chrome()\n",
    "driver.get(url)\n",
    "data = []\n",
    "\n",
    "companies = WebDriverWait(driver, 30).until(\n",
    "    EC.presence_of_all_elements_located((By.XPATH, \"//a[@class='partner-card']\")))\n",
    "\n",
    "for i in range(len(companies)):\n",
    "    companies = WebDriverWait(driver, 30).until(\n",
    "    EC.presence_of_all_elements_located((By.XPATH, \"//a[@class='partner-card']\")))\n",
    "\n",
    "    company = companies[i]\n",
    "    company.click()\n",
    "\n",
    "    #Scrape Info\n",
    "    time.sleep(5)\n",
    "    soup = BeautifulSoup(driver.page_source, \"html.parser\")\n",
    "\n",
    "    name = soup.find(\"h1\", class_=\"summary-title\").text\n",
    "    email = soup.find(\"lightning-formatted-email\").text[6:]\n",
    "    try:  # Some companies don't have phone numbers\n",
    "        phone = soup.find(\"lightning-formatted-phone\").text\n",
    "    except AttributeError:\n",
    "        phone = \"\"\n",
    "    \n",
    "    data.append({\"name\": name, \"email\": email, \"phone\": phone})\n",
    "    print(name, email, phone)\n",
    "\n",
    "    driver.back()\n",
    "    "
   ]
  },
  {
   "cell_type": "code",
   "execution_count": null,
   "metadata": {},
   "outputs": [],
   "source": [
    "import csv\n",
    "\n",
    "fields = ['Name', 'Email', 'Phone']\n",
    "\n",
    "keys = data[0].keys()\n",
    "\n",
    "with open('database.csv', 'w', newline='') as output_file:\n",
    "    dict_writer = csv.DictWriter(output_file, keys)\n",
    "    dict_writer.writeheader()\n",
    "    dict_writer.writerows(data)"
   ]
  }
 ],
 "metadata": {
  "interpreter": {
   "hash": "b99d9cd655a354098188085f889f1e341cd0c0beb723a8b04cab4f4cab4c6fb4"
  },
  "kernelspec": {
   "display_name": "Python 3.10.1 64-bit",
   "language": "python",
   "name": "python3"
  },
  "language_info": {
   "codemirror_mode": {
    "name": "ipython",
    "version": 3
   },
   "file_extension": ".py",
   "mimetype": "text/x-python",
   "name": "python",
   "nbconvert_exporter": "python",
   "pygments_lexer": "ipython3",
   "version": "3.10.1"
  },
  "orig_nbformat": 4
 },
 "nbformat": 4,
 "nbformat_minor": 2
}
