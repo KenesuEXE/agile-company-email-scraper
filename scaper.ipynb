{
 "cells": [
  {
   "cell_type": "code",
   "execution_count": null,
   "metadata": {},
   "outputs": [],
   "source": [
    "# Run to start driver\n",
    "# Note that chromedriver.exe must be the same version as your Chrome browser\n",
    "\n",
    "from selenium.webdriver import Chrome\n",
    "from selenium.webdriver.common.by import By\n",
    "from selenium.webdriver.support.ui import WebDriverWait\n",
    "from selenium.webdriver.support import expected_conditions as EC\n",
    "from bs4 import BeautifulSoup\n",
    "import time\n",
    "\n",
    "url = \"https://scaledagile.com/business-solutions/find-a-partner/\"\n",
    "driver = Chrome()\n",
    "driver.get(url)\n",
    "data = []"
   ]
  },
  {
   "cell_type": "code",
   "execution_count": null,
   "metadata": {},
   "outputs": [],
   "source": [
    "# Counts how many companies in a page\n",
    "companies = WebDriverWait(driver, 30).until(\n",
    "    EC.presence_of_all_elements_located((By.XPATH, \"//a[@class='partner-card']\")))\n",
    "\n",
    "# Loops for every company in a page\n",
    "for i in range(len(companies)):\n",
    "    companies = WebDriverWait(driver, 30).until(\n",
    "    EC.presence_of_all_elements_located((By.XPATH, \"//a[@class='partner-card']\")))\n",
    "\n",
    "    company = companies[i]\n",
    "    company.click()\n",
    "\n",
    "    #Scrape Info\n",
    "    time.sleep(5)\n",
    "    soup = BeautifulSoup(driver.page_source, \"html.parser\")\n",
    "\n",
    "    try: # Skip if site didnt load\n",
    "        name = soup.find(\"h1\", class_=\"summary-title\").text\n",
    "    except AttributeError:\n",
    "        driver.back()\n",
    "        continue\n",
    "\n",
    "    try: # Leave blank if no email\n",
    "        email = soup.find(\"lightning-formatted-email\").text[6:]\n",
    "    except AttributeError:\n",
    "        email = \"\"\n",
    "    \n",
    "    try:  # Leave blank if no phone number\n",
    "        phone = soup.find(\"lightning-formatted-phone\").text\n",
    "    except AttributeError:\n",
    "        phone = \"\"\n",
    "    \n",
    "    # Store dict in list\n",
    "    data.append({\"name\": name, \"email\": email, \"phone\": phone})\n",
    "    print(i+1, name, email, phone)\n",
    "\n",
    "    driver.back()\n",
    "\n",
    "# Auto next page not yet done, manually press next page in driver\n",
    "# and run this code block again\n",
    "print(\"Go to next page\")  "
   ]
  },
  {
   "cell_type": "code",
   "execution_count": null,
   "metadata": {},
   "outputs": [],
   "source": [
    "# Write data on csv file\n",
    "import csv\n",
    "\n",
    "fields = ['Name', 'Email', 'Phone']\n",
    "\n",
    "keys = data[0].keys()\n",
    "\n",
    "with open('all_companies.csv', 'w', newline='') as output_file:\n",
    "    dict_writer = csv.DictWriter(output_file, keys)\n",
    "    dict_writer.writeheader()\n",
    "    dict_writer.writerows(data)"
   ]
  },
  {
   "cell_type": "code",
   "execution_count": null,
   "metadata": {},
   "outputs": [],
   "source": [
    "driver.quit()"
   ]
  }
 ],
 "metadata": {
  "interpreter": {
   "hash": "b99d9cd655a354098188085f889f1e341cd0c0beb723a8b04cab4f4cab4c6fb4"
  },
  "kernelspec": {
   "display_name": "Python 3.10.1 64-bit",
   "language": "python",
   "name": "python3"
  },
  "language_info": {
   "codemirror_mode": {
    "name": "ipython",
    "version": 3
   },
   "file_extension": ".py",
   "mimetype": "text/x-python",
   "name": "python",
   "nbconvert_exporter": "python",
   "pygments_lexer": "ipython3",
   "version": "3.10.1"
  },
  "orig_nbformat": 4
 },
 "nbformat": 4,
 "nbformat_minor": 2
}
