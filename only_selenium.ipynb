{
 "cells": [
  {
   "cell_type": "code",
   "execution_count": null,
   "metadata": {},
   "outputs": [],
   "source": [
    "# The code is kinda messy right now, but Ill fix it when its 100% functional\n",
    "\n",
    "from selenium.webdriver import Chrome\n",
    "from selenium.webdriver.common.by import By\n",
    "from selenium.webdriver.support.ui import WebDriverWait\n",
    "from selenium.webdriver.support import expected_conditions as EC\n",
    "import time\n",
    "\n",
    "url = \"https://scaledagile.com/business-solutions/find-a-partner/\"\n",
    "driver = Chrome()\n",
    "driver.get(url)\n",
    "\n",
    "for i in range(25):\n",
    "    companies = WebDriverWait(driver, 15).until(\n",
    "    EC.presence_of_all_elements_located((By.XPATH, \"//a[@class='partner-card']\")))\n",
    "\n",
    "    company = companies[i]\n",
    "    company.click()\n",
    "    time.sleep(5)\n",
    "    driver.back()"
   ]
  },
  {
   "cell_type": "code",
   "execution_count": null,
   "metadata": {},
   "outputs": [],
   "source": [
    "driver.quit()"
   ]
  }
 ],
 "metadata": {
  "interpreter": {
   "hash": "b99d9cd655a354098188085f889f1e341cd0c0beb723a8b04cab4f4cab4c6fb4"
  },
  "kernelspec": {
   "display_name": "Python 3.10.1 64-bit",
   "language": "python",
   "name": "python3"
  },
  "language_info": {
   "codemirror_mode": {
    "name": "ipython",
    "version": 3
   },
   "file_extension": ".py",
   "mimetype": "text/x-python",
   "name": "python",
   "nbconvert_exporter": "python",
   "pygments_lexer": "ipython3",
   "version": "3.10.1"
  },
  "orig_nbformat": 4
 },
 "nbformat": 4,
 "nbformat_minor": 2
}
